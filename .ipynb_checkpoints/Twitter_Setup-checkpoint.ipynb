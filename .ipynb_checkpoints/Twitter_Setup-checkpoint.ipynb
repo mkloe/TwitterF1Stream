{
 "cells": [
  {
   "cell_type": "markdown",
   "id": "3c8bf58f",
   "metadata": {},
   "source": [
    "# Documentation:\n",
    "\n",
    "Deleting, Adding, Checking rules: https://developer.twitter.com/en/docs/twitter-api/tweets/filtered-stream/integrate/build-a-rule#types\n",
    "\n",
    "Curl to Python converter: https://reqbin.com/req/python/c-xgafmluu/convert-curl-to-python-requests\n",
    "\n",
    "Project that our team relied on: https://www.toptal.com/apache/apache-spark-streaming-twitter"
   ]
  },
  {
   "cell_type": "code",
   "execution_count": 8,
   "id": "6dfe793e",
   "metadata": {},
   "outputs": [
    {
     "name": "stdout",
     "output_type": "stream",
     "text": [
      "200\n"
     ]
    }
   ],
   "source": [
    "# deleting a rule\n",
    "import json\n",
    "import requests\n",
    "from requests.structures import CaseInsensitiveDict\n",
    "\n",
    "url = \"https://api.twitter.com/2/tweets/search/stream/rules\"\n",
    "\n",
    "headers = CaseInsensitiveDict()\n",
    "headers[\"Content-type\"] = \"application/json\"\n",
    "headers[\"Authorization\"] = \"Bearer AAAAAAAAAAAAAAAAAAAAANJZdQEAAAAAHwvIB30%2F8LgT6pV0xUbw16I%2Fd%2B0%3DZtIvQH5IsqM1qWPDPdUDHsvFX1aC3MV6wl4XeHJ1b1sXhgXl6t\"\n",
    "\n",
    "data = \"\"\"\n",
    "{\n",
    "    \"delete\": {\n",
    "      \"ids\": [\n",
    "        \"1578769237795115009\"\n",
    "      ]\n",
    "    }\n",
    "  }\n",
    "\"\"\"\n",
    "\n",
    "\n",
    "resp = requests.post(url, headers=headers, data=data)\n",
    "\n",
    "print(resp.status_code)\n",
    "\n"
   ]
  },
  {
   "cell_type": "code",
   "execution_count": 6,
   "id": "b48c19b0",
   "metadata": {},
   "outputs": [
    {
     "data": {
      "text/plain": [
       "{'data': [{'value': 'nba lang:en', 'tag': 'nba', 'id': '1578769237795115009'}],\n",
       " 'meta': {'sent': '2022-10-08T15:28:14.012Z',\n",
       "  'summary': {'created': 1, 'not_created': 0, 'valid': 1, 'invalid': 0}}}"
      ]
     },
     "execution_count": 6,
     "metadata": {},
     "output_type": "execute_result"
    }
   ],
   "source": [
    "# creating a rule\n",
    "import json\n",
    "import requests\n",
    "from requests.structures import CaseInsensitiveDict\n",
    "\n",
    "url = \"https://api.twitter.com/2/tweets/search/stream/rules\"\n",
    "\n",
    "headers = CaseInsensitiveDict()\n",
    "headers[\"Content-type\"] = \"application/json\"\n",
    "headers[\"Authorization\"] = \"Bearer AAAAAAAAAAAAAAAAAAAAANJZdQEAAAAAHwvIB30%2F8LgT6pV0xUbw16I%2Fd%2B0%3DZtIvQH5IsqM1qWPDPdUDHsvFX1aC3MV6wl4XeHJ1b1sXhgXl6t\"\n",
    "\n",
    "data = \"\"\"\n",
    "{\n",
    "  \"add\": [\n",
    "    {\"value\": \"nba lang:en\", \"tag\": \"nba\"}\n",
    "  ]\n",
    "}\n",
    "\"\"\"\n",
    "\n",
    "\n",
    "resp = requests.post(url, headers=headers, data=data)\n",
    "\n",
    "json.loads(resp.text)\n",
    "\n"
   ]
  },
  {
   "cell_type": "code",
   "execution_count": 9,
   "id": "ff5d773d",
   "metadata": {},
   "outputs": [
    {
     "name": "stdout",
     "output_type": "stream",
     "text": [
      "200\n",
      "{'data': [{'id': '1534234885098962947', 'value': 'F1 lang:en', 'tag': 'F1'}], 'meta': {'sent': '2022-10-08T15:28:31.890Z', 'result_count': 1}}\n"
     ]
    }
   ],
   "source": [
    "# checking if the rule works and what is its ID\n",
    "\n",
    "import json\n",
    "import requests\n",
    "from requests.structures import CaseInsensitiveDict\n",
    "\n",
    "url = \"https://api.twitter.com/2/tweets/search/stream/rules\"\n",
    "\n",
    "headers = CaseInsensitiveDict()\n",
    "headers[\"Authorization\"] = \"Bearer AAAAAAAAAAAAAAAAAAAAANJZdQEAAAAAHwvIB30%2F8LgT6pV0xUbw16I%2Fd%2B0%3DZtIvQH5IsqM1qWPDPdUDHsvFX1aC3MV6wl4XeHJ1b1sXhgXl6t\"\n",
    "\n",
    "\n",
    "resp = requests.get(url, headers=headers)\n",
    "\n",
    "print(resp.status_code)\n",
    "print(json.loads(resp.text))\n"
   ]
  },
  {
   "cell_type": "code",
   "execution_count": null,
   "id": "a529b0dd",
   "metadata": {},
   "outputs": [],
   "source": []
  }
 ],
 "metadata": {
  "kernelspec": {
   "display_name": "Python 3 (ipykernel)",
   "language": "python",
   "name": "python3"
  },
  "language_info": {
   "codemirror_mode": {
    "name": "ipython",
    "version": 3
   },
   "file_extension": ".py",
   "mimetype": "text/x-python",
   "name": "python",
   "nbconvert_exporter": "python",
   "pygments_lexer": "ipython3",
   "version": "3.7.13"
  }
 },
 "nbformat": 4,
 "nbformat_minor": 5
}
