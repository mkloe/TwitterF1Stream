{
 "cells": [
  {
   "cell_type": "markdown",
   "id": "b60a7595",
   "metadata": {},
   "source": [
    "# Run the blocks of code below to start processing of streaming data"
   ]
  },
  {
   "cell_type": "code",
   "execution_count": 1,
   "id": "3a341297",
   "metadata": {},
   "outputs": [],
   "source": [
    "#import needed libraries \n",
    "\n",
    "import re\n",
    "from pyspark import SparkContext\n",
    "from pyspark.streaming import StreamingContext"
   ]
  },
  {
   "cell_type": "code",
   "execution_count": 2,
   "id": "2bdd5b82",
   "metadata": {},
   "outputs": [],
   "source": [
    "#define needed functions\n",
    "\n",
    "def updateFunc(newValues, runningCount):\n",
    "    if runningCount is None:\n",
    "        runningCount = 0\n",
    "    return sum(newValues, runningCount)\n",
    "\n",
    "def f1drivers(word):\n",
    "    drivers = ['bottas', 'zhou', 'gasly', 'tsunoda', 'alonso', 'ocon', 'vettel', 'stroll', \n",
    "     'leclerc', 'sainz', 'schumacher', 'magnussen', 'ricciardo', 'norris', 'hamilton', \n",
    "     'russell', 'verstappen', 'pérez', 'albon', 'latifi'] \n",
    "    return word.lower() in drivers"
   ]
  },
  {
   "cell_type": "code",
   "execution_count": 3,
   "id": "d9966628",
   "metadata": {
    "scrolled": true
   },
   "outputs": [],
   "source": [
    "#Create a function to write streaming data into csv\n",
    "\n",
    "from pyspark.sql import Row, SQLContext\n",
    "import pandas as pd\n",
    "\n",
    "def get_sql_context_instance(spark_context):\n",
    "    if ('sqlContextSingletonInstance' not in globals()):\n",
    "        globals()['sqlContextSingletonInstance'] = SQLContext(spark_context)\n",
    "    return globals()['sqlContextSingletonInstance']\n",
    "def process(time, rdd):\n",
    "    print(\"----------- %s -----------\" % str(time))\n",
    "    try:\n",
    "        # Get spark sql singleton context from the current context\n",
    "        sql_context = get_sql_context_instance(rdd.context)\n",
    "        \n",
    "        # convert the RDD to Row RDD\n",
    "        row_rdd = rdd.map(lambda w: Row(Driver=w[0], Total_number=w[1]))\n",
    "        \n",
    "        # create a DF from the Row RDD\n",
    "        word_df = sql_context.createDataFrame(row_rdd)\n",
    "        \n",
    "        # Register the dataframe as table\n",
    "        word_df.registerTempTable(\"words\")\n",
    "        \n",
    "        # Convert spart DF to Pandas DF \n",
    "        pandas_df = word_df.select(\"*\").toPandas()\n",
    "        \n",
    "        # Print data in pandas DF\n",
    "        print(pandas_df)\n",
    "        \n",
    "        # Save pandas_df to CSV file\n",
    "        pandas_df.to_csv('Counting_Results.csv')\n",
    "        \n",
    "    except:\n",
    "        e = sys.exc_info()[0]\n",
    "        print(\"Error: %s\" % e)"
   ]
  },
  {
   "cell_type": "code",
   "execution_count": 4,
   "id": "01ac5d9b",
   "metadata": {
    "scrolled": true
   },
   "outputs": [
    {
     "name": "stderr",
     "output_type": "stream",
     "text": [
      "Using Spark's default log4j profile: org/apache/spark/log4j-defaults.properties\n",
      "Setting default log level to \"WARN\".\n",
      "To adjust logging level use sc.setLogLevel(newLevel). For SparkR, use setLogLevel(newLevel).\n",
      "22/10/08 18:30:53 WARN NativeCodeLoader: Unable to load native-hadoop library for your platform... using builtin-java classes where applicable\n",
      "                                                                                \r"
     ]
    },
    {
     "name": "stdout",
     "output_type": "stream",
     "text": [
      "-------------------------------------------\n",
      "Time: 2022-10-08 18:31:00\n",
      "-------------------------------------------\n",
      "\n",
      "----------- 2022-10-08 18:31:00 -----------\n"
     ]
    },
    {
     "name": "stderr",
     "output_type": "stream",
     "text": [
      "/opt/anaconda3/lib/python3.7/site-packages/pyspark/sql/context.py:79: FutureWarning: Deprecated in 3.0.0. Use SparkSession.builder.getOrCreate() instead.\n",
      "  FutureWarning\n",
      "22/10/08 18:31:02 ERROR JobScheduler: Error running job streaming job 1665246660000 ms.1\n",
      "org.apache.spark.SparkException: An exception was raised by Python:\n",
      "Traceback (most recent call last):\n",
      "  File \"/var/folders/k4/czzmds1d2yz83sv2728160680000gn/T/ipykernel_3538/1213598798.py\", line 20, in process\n",
      "    word_df = sql_context.createDataFrame(row_rdd)\n",
      "  File \"/opt/anaconda3/lib/python3.7/site-packages/pyspark/sql/context.py\", line 373, in createDataFrame\n",
      "    return self.sparkSession.createDataFrame(data, schema, samplingRatio, verifySchema)\n",
      "  File \"/opt/anaconda3/lib/python3.7/site-packages/pyspark/sql/session.py\", line 675, in createDataFrame\n",
      "    return self._create_dataframe(data, schema, samplingRatio, verifySchema)\n",
      "  File \"/opt/anaconda3/lib/python3.7/site-packages/pyspark/sql/session.py\", line 698, in _create_dataframe\n",
      "    rdd, schema = self._createFromRDD(data.map(prepare), schema, samplingRatio)\n",
      "  File \"/opt/anaconda3/lib/python3.7/site-packages/pyspark/sql/session.py\", line 486, in _createFromRDD\n",
      "    struct = self._inferSchema(rdd, samplingRatio, names=schema)\n",
      "  File \"/opt/anaconda3/lib/python3.7/site-packages/pyspark/sql/session.py\", line 460, in _inferSchema\n",
      "    first = rdd.first()\n",
      "  File \"/opt/anaconda3/lib/python3.7/site-packages/pyspark/rdd.py\", line 1591, in first\n",
      "    raise ValueError(\"RDD is empty\")\n",
      "ValueError: RDD is empty\n",
      "\n",
      "During handling of the above exception, another exception occurred:\n",
      "\n",
      "Traceback (most recent call last):\n",
      "  File \"/opt/anaconda3/lib/python3.7/site-packages/pyspark/streaming/util.py\", line 68, in call\n",
      "    r = self.func(t, *rdds)\n",
      "  File \"/var/folders/k4/czzmds1d2yz83sv2728160680000gn/T/ipykernel_3538/1213598798.py\", line 35, in process\n",
      "    e = sys.exc_info()[0]\n",
      "NameError: name 'sys' is not defined\n",
      "\n",
      "\tat org.apache.spark.streaming.api.python.TransformFunction.callPythonTransformFunction(PythonDStream.scala:95)\n",
      "\tat org.apache.spark.streaming.api.python.TransformFunction.apply(PythonDStream.scala:78)\n",
      "\tat org.apache.spark.streaming.api.python.PythonDStream$.$anonfun$callForeachRDD$1(PythonDStream.scala:179)\n",
      "\tat org.apache.spark.streaming.api.python.PythonDStream$.$anonfun$callForeachRDD$1$adapted(PythonDStream.scala:179)\n",
      "\tat org.apache.spark.streaming.dstream.ForEachDStream.$anonfun$generateJob$2(ForEachDStream.scala:51)\n",
      "\tat scala.runtime.java8.JFunction0$mcV$sp.apply(JFunction0$mcV$sp.java:23)\n",
      "\tat org.apache.spark.streaming.dstream.DStream.createRDDWithLocalProperties(DStream.scala:417)\n",
      "\tat org.apache.spark.streaming.dstream.ForEachDStream.$anonfun$generateJob$1(ForEachDStream.scala:51)\n",
      "\tat scala.runtime.java8.JFunction0$mcV$sp.apply(JFunction0$mcV$sp.java:23)\n",
      "\tat scala.util.Try$.apply(Try.scala:213)\n",
      "\tat org.apache.spark.streaming.scheduler.Job.run(Job.scala:39)\n",
      "\tat org.apache.spark.streaming.scheduler.JobScheduler$JobHandler.$anonfun$run$1(JobScheduler.scala:256)\n",
      "\tat scala.runtime.java8.JFunction0$mcV$sp.apply(JFunction0$mcV$sp.java:23)\n",
      "\tat scala.util.DynamicVariable.withValue(DynamicVariable.scala:62)\n",
      "\tat org.apache.spark.streaming.scheduler.JobScheduler$JobHandler.run(JobScheduler.scala:256)\n",
      "\tat java.util.concurrent.ThreadPoolExecutor.runWorker(ThreadPoolExecutor.java:1149)\n",
      "\tat java.util.concurrent.ThreadPoolExecutor$Worker.run(ThreadPoolExecutor.java:624)\n",
      "\tat java.lang.Thread.run(Thread.java:748)\n"
     ]
    },
    {
     "ename": "Py4JJavaError",
     "evalue": "An error occurred while calling o24.awaitTermination.\n: org.apache.spark.SparkException: An exception was raised by Python:\nTraceback (most recent call last):\n  File \"/var/folders/k4/czzmds1d2yz83sv2728160680000gn/T/ipykernel_3538/1213598798.py\", line 20, in process\n    word_df = sql_context.createDataFrame(row_rdd)\n  File \"/opt/anaconda3/lib/python3.7/site-packages/pyspark/sql/context.py\", line 373, in createDataFrame\n    return self.sparkSession.createDataFrame(data, schema, samplingRatio, verifySchema)\n  File \"/opt/anaconda3/lib/python3.7/site-packages/pyspark/sql/session.py\", line 675, in createDataFrame\n    return self._create_dataframe(data, schema, samplingRatio, verifySchema)\n  File \"/opt/anaconda3/lib/python3.7/site-packages/pyspark/sql/session.py\", line 698, in _create_dataframe\n    rdd, schema = self._createFromRDD(data.map(prepare), schema, samplingRatio)\n  File \"/opt/anaconda3/lib/python3.7/site-packages/pyspark/sql/session.py\", line 486, in _createFromRDD\n    struct = self._inferSchema(rdd, samplingRatio, names=schema)\n  File \"/opt/anaconda3/lib/python3.7/site-packages/pyspark/sql/session.py\", line 460, in _inferSchema\n    first = rdd.first()\n  File \"/opt/anaconda3/lib/python3.7/site-packages/pyspark/rdd.py\", line 1591, in first\n    raise ValueError(\"RDD is empty\")\nValueError: RDD is empty\n\nDuring handling of the above exception, another exception occurred:\n\nTraceback (most recent call last):\n  File \"/opt/anaconda3/lib/python3.7/site-packages/pyspark/streaming/util.py\", line 68, in call\n    r = self.func(t, *rdds)\n  File \"/var/folders/k4/czzmds1d2yz83sv2728160680000gn/T/ipykernel_3538/1213598798.py\", line 35, in process\n    e = sys.exc_info()[0]\nNameError: name 'sys' is not defined\n\n\tat org.apache.spark.streaming.api.python.TransformFunction.callPythonTransformFunction(PythonDStream.scala:95)\n\tat org.apache.spark.streaming.api.python.TransformFunction.apply(PythonDStream.scala:78)\n\tat org.apache.spark.streaming.api.python.PythonDStream$.$anonfun$callForeachRDD$1(PythonDStream.scala:179)\n\tat org.apache.spark.streaming.api.python.PythonDStream$.$anonfun$callForeachRDD$1$adapted(PythonDStream.scala:179)\n\tat org.apache.spark.streaming.dstream.ForEachDStream.$anonfun$generateJob$2(ForEachDStream.scala:51)\n\tat scala.runtime.java8.JFunction0$mcV$sp.apply(JFunction0$mcV$sp.java:23)\n\tat org.apache.spark.streaming.dstream.DStream.createRDDWithLocalProperties(DStream.scala:417)\n\tat org.apache.spark.streaming.dstream.ForEachDStream.$anonfun$generateJob$1(ForEachDStream.scala:51)\n\tat scala.runtime.java8.JFunction0$mcV$sp.apply(JFunction0$mcV$sp.java:23)\n\tat scala.util.Try$.apply(Try.scala:213)\n\tat org.apache.spark.streaming.scheduler.Job.run(Job.scala:39)\n\tat org.apache.spark.streaming.scheduler.JobScheduler$JobHandler.$anonfun$run$1(JobScheduler.scala:256)\n\tat scala.runtime.java8.JFunction0$mcV$sp.apply(JFunction0$mcV$sp.java:23)\n\tat scala.util.DynamicVariable.withValue(DynamicVariable.scala:62)\n\tat org.apache.spark.streaming.scheduler.JobScheduler$JobHandler.run(JobScheduler.scala:256)\n\tat java.util.concurrent.ThreadPoolExecutor.runWorker(ThreadPoolExecutor.java:1149)\n\tat java.util.concurrent.ThreadPoolExecutor$Worker.run(ThreadPoolExecutor.java:624)\n\tat java.lang.Thread.run(Thread.java:748)\n",
     "output_type": "error",
     "traceback": [
      "\u001b[0;31m---------------------------------------------------------------------------\u001b[0m",
      "\u001b[0;31mPy4JJavaError\u001b[0m                             Traceback (most recent call last)",
      "\u001b[0;32m/var/folders/k4/czzmds1d2yz83sv2728160680000gn/T/ipykernel_3538/1091719423.py\u001b[0m in \u001b[0;36m<module>\u001b[0;34m\u001b[0m\n\u001b[1;32m     24\u001b[0m \u001b[0;34m\u001b[0m\u001b[0m\n\u001b[1;32m     25\u001b[0m \u001b[0mssc\u001b[0m\u001b[0;34m.\u001b[0m\u001b[0mstart\u001b[0m\u001b[0;34m(\u001b[0m\u001b[0;34m)\u001b[0m             \u001b[0;31m# Start the computation\u001b[0m\u001b[0;34m\u001b[0m\u001b[0;34m\u001b[0m\u001b[0m\n\u001b[0;32m---> 26\u001b[0;31m \u001b[0mssc\u001b[0m\u001b[0;34m.\u001b[0m\u001b[0mawaitTermination\u001b[0m\u001b[0;34m(\u001b[0m\u001b[0;34m)\u001b[0m  \u001b[0;31m# Wait for the computation to terminate\u001b[0m\u001b[0;34m\u001b[0m\u001b[0;34m\u001b[0m\u001b[0m\n\u001b[0m\u001b[1;32m     27\u001b[0m \u001b[0mssc\u001b[0m\u001b[0;34m.\u001b[0m\u001b[0mstop\u001b[0m\u001b[0;34m(\u001b[0m\u001b[0;32mTrue\u001b[0m\u001b[0;34m,\u001b[0m\u001b[0;32mTrue\u001b[0m\u001b[0;34m)\u001b[0m\u001b[0;34m\u001b[0m\u001b[0;34m\u001b[0m\u001b[0m\n",
      "\u001b[0;32m/opt/anaconda3/lib/python3.7/site-packages/pyspark/streaming/context.py\u001b[0m in \u001b[0;36mawaitTermination\u001b[0;34m(self, timeout)\u001b[0m\n\u001b[1;32m    198\u001b[0m         \"\"\"\n\u001b[1;32m    199\u001b[0m         \u001b[0;32mif\u001b[0m \u001b[0mtimeout\u001b[0m \u001b[0;32mis\u001b[0m \u001b[0;32mNone\u001b[0m\u001b[0;34m:\u001b[0m\u001b[0;34m\u001b[0m\u001b[0;34m\u001b[0m\u001b[0m\n\u001b[0;32m--> 200\u001b[0;31m             \u001b[0mself\u001b[0m\u001b[0;34m.\u001b[0m\u001b[0m_jssc\u001b[0m\u001b[0;34m.\u001b[0m\u001b[0mawaitTermination\u001b[0m\u001b[0;34m(\u001b[0m\u001b[0;34m)\u001b[0m\u001b[0;34m\u001b[0m\u001b[0;34m\u001b[0m\u001b[0m\n\u001b[0m\u001b[1;32m    201\u001b[0m         \u001b[0;32melse\u001b[0m\u001b[0;34m:\u001b[0m\u001b[0;34m\u001b[0m\u001b[0;34m\u001b[0m\u001b[0m\n\u001b[1;32m    202\u001b[0m             \u001b[0mself\u001b[0m\u001b[0;34m.\u001b[0m\u001b[0m_jssc\u001b[0m\u001b[0;34m.\u001b[0m\u001b[0mawaitTerminationOrTimeout\u001b[0m\u001b[0;34m(\u001b[0m\u001b[0mint\u001b[0m\u001b[0;34m(\u001b[0m\u001b[0mtimeout\u001b[0m \u001b[0;34m*\u001b[0m \u001b[0;36m1000\u001b[0m\u001b[0;34m)\u001b[0m\u001b[0;34m)\u001b[0m\u001b[0;34m\u001b[0m\u001b[0;34m\u001b[0m\u001b[0m\n",
      "\u001b[0;32m/opt/anaconda3/lib/python3.7/site-packages/py4j/java_gateway.py\u001b[0m in \u001b[0;36m__call__\u001b[0;34m(self, *args)\u001b[0m\n\u001b[1;32m   1320\u001b[0m         \u001b[0manswer\u001b[0m \u001b[0;34m=\u001b[0m \u001b[0mself\u001b[0m\u001b[0;34m.\u001b[0m\u001b[0mgateway_client\u001b[0m\u001b[0;34m.\u001b[0m\u001b[0msend_command\u001b[0m\u001b[0;34m(\u001b[0m\u001b[0mcommand\u001b[0m\u001b[0;34m)\u001b[0m\u001b[0;34m\u001b[0m\u001b[0;34m\u001b[0m\u001b[0m\n\u001b[1;32m   1321\u001b[0m         return_value = get_return_value(\n\u001b[0;32m-> 1322\u001b[0;31m             answer, self.gateway_client, self.target_id, self.name)\n\u001b[0m\u001b[1;32m   1323\u001b[0m \u001b[0;34m\u001b[0m\u001b[0m\n\u001b[1;32m   1324\u001b[0m         \u001b[0;32mfor\u001b[0m \u001b[0mtemp_arg\u001b[0m \u001b[0;32min\u001b[0m \u001b[0mtemp_args\u001b[0m\u001b[0;34m:\u001b[0m\u001b[0;34m\u001b[0m\u001b[0;34m\u001b[0m\u001b[0m\n",
      "\u001b[0;32m/opt/anaconda3/lib/python3.7/site-packages/pyspark/sql/utils.py\u001b[0m in \u001b[0;36mdeco\u001b[0;34m(*a, **kw)\u001b[0m\n\u001b[1;32m    109\u001b[0m     \u001b[0;32mdef\u001b[0m \u001b[0mdeco\u001b[0m\u001b[0;34m(\u001b[0m\u001b[0;34m*\u001b[0m\u001b[0ma\u001b[0m\u001b[0;34m,\u001b[0m \u001b[0;34m**\u001b[0m\u001b[0mkw\u001b[0m\u001b[0;34m)\u001b[0m\u001b[0;34m:\u001b[0m\u001b[0;34m\u001b[0m\u001b[0;34m\u001b[0m\u001b[0m\n\u001b[1;32m    110\u001b[0m         \u001b[0;32mtry\u001b[0m\u001b[0;34m:\u001b[0m\u001b[0;34m\u001b[0m\u001b[0;34m\u001b[0m\u001b[0m\n\u001b[0;32m--> 111\u001b[0;31m             \u001b[0;32mreturn\u001b[0m \u001b[0mf\u001b[0m\u001b[0;34m(\u001b[0m\u001b[0;34m*\u001b[0m\u001b[0ma\u001b[0m\u001b[0;34m,\u001b[0m \u001b[0;34m**\u001b[0m\u001b[0mkw\u001b[0m\u001b[0;34m)\u001b[0m\u001b[0;34m\u001b[0m\u001b[0;34m\u001b[0m\u001b[0m\n\u001b[0m\u001b[1;32m    112\u001b[0m         \u001b[0;32mexcept\u001b[0m \u001b[0mpy4j\u001b[0m\u001b[0;34m.\u001b[0m\u001b[0mprotocol\u001b[0m\u001b[0;34m.\u001b[0m\u001b[0mPy4JJavaError\u001b[0m \u001b[0;32mas\u001b[0m \u001b[0me\u001b[0m\u001b[0;34m:\u001b[0m\u001b[0;34m\u001b[0m\u001b[0;34m\u001b[0m\u001b[0m\n\u001b[1;32m    113\u001b[0m             \u001b[0mconverted\u001b[0m \u001b[0;34m=\u001b[0m \u001b[0mconvert_exception\u001b[0m\u001b[0;34m(\u001b[0m\u001b[0me\u001b[0m\u001b[0;34m.\u001b[0m\u001b[0mjava_exception\u001b[0m\u001b[0;34m)\u001b[0m\u001b[0;34m\u001b[0m\u001b[0;34m\u001b[0m\u001b[0m\n",
      "\u001b[0;32m/opt/anaconda3/lib/python3.7/site-packages/py4j/protocol.py\u001b[0m in \u001b[0;36mget_return_value\u001b[0;34m(answer, gateway_client, target_id, name)\u001b[0m\n\u001b[1;32m    326\u001b[0m                 raise Py4JJavaError(\n\u001b[1;32m    327\u001b[0m                     \u001b[0;34m\"An error occurred while calling {0}{1}{2}.\\n\"\u001b[0m\u001b[0;34m.\u001b[0m\u001b[0;34m\u001b[0m\u001b[0;34m\u001b[0m\u001b[0m\n\u001b[0;32m--> 328\u001b[0;31m                     format(target_id, \".\", name), value)\n\u001b[0m\u001b[1;32m    329\u001b[0m             \u001b[0;32melse\u001b[0m\u001b[0;34m:\u001b[0m\u001b[0;34m\u001b[0m\u001b[0;34m\u001b[0m\u001b[0m\n\u001b[1;32m    330\u001b[0m                 raise Py4JError(\n",
      "\u001b[0;31mPy4JJavaError\u001b[0m: An error occurred while calling o24.awaitTermination.\n: org.apache.spark.SparkException: An exception was raised by Python:\nTraceback (most recent call last):\n  File \"/var/folders/k4/czzmds1d2yz83sv2728160680000gn/T/ipykernel_3538/1213598798.py\", line 20, in process\n    word_df = sql_context.createDataFrame(row_rdd)\n  File \"/opt/anaconda3/lib/python3.7/site-packages/pyspark/sql/context.py\", line 373, in createDataFrame\n    return self.sparkSession.createDataFrame(data, schema, samplingRatio, verifySchema)\n  File \"/opt/anaconda3/lib/python3.7/site-packages/pyspark/sql/session.py\", line 675, in createDataFrame\n    return self._create_dataframe(data, schema, samplingRatio, verifySchema)\n  File \"/opt/anaconda3/lib/python3.7/site-packages/pyspark/sql/session.py\", line 698, in _create_dataframe\n    rdd, schema = self._createFromRDD(data.map(prepare), schema, samplingRatio)\n  File \"/opt/anaconda3/lib/python3.7/site-packages/pyspark/sql/session.py\", line 486, in _createFromRDD\n    struct = self._inferSchema(rdd, samplingRatio, names=schema)\n  File \"/opt/anaconda3/lib/python3.7/site-packages/pyspark/sql/session.py\", line 460, in _inferSchema\n    first = rdd.first()\n  File \"/opt/anaconda3/lib/python3.7/site-packages/pyspark/rdd.py\", line 1591, in first\n    raise ValueError(\"RDD is empty\")\nValueError: RDD is empty\n\nDuring handling of the above exception, another exception occurred:\n\nTraceback (most recent call last):\n  File \"/opt/anaconda3/lib/python3.7/site-packages/pyspark/streaming/util.py\", line 68, in call\n    r = self.func(t, *rdds)\n  File \"/var/folders/k4/czzmds1d2yz83sv2728160680000gn/T/ipykernel_3538/1213598798.py\", line 35, in process\n    e = sys.exc_info()[0]\nNameError: name 'sys' is not defined\n\n\tat org.apache.spark.streaming.api.python.TransformFunction.callPythonTransformFunction(PythonDStream.scala:95)\n\tat org.apache.spark.streaming.api.python.TransformFunction.apply(PythonDStream.scala:78)\n\tat org.apache.spark.streaming.api.python.PythonDStream$.$anonfun$callForeachRDD$1(PythonDStream.scala:179)\n\tat org.apache.spark.streaming.api.python.PythonDStream$.$anonfun$callForeachRDD$1$adapted(PythonDStream.scala:179)\n\tat org.apache.spark.streaming.dstream.ForEachDStream.$anonfun$generateJob$2(ForEachDStream.scala:51)\n\tat scala.runtime.java8.JFunction0$mcV$sp.apply(JFunction0$mcV$sp.java:23)\n\tat org.apache.spark.streaming.dstream.DStream.createRDDWithLocalProperties(DStream.scala:417)\n\tat org.apache.spark.streaming.dstream.ForEachDStream.$anonfun$generateJob$1(ForEachDStream.scala:51)\n\tat scala.runtime.java8.JFunction0$mcV$sp.apply(JFunction0$mcV$sp.java:23)\n\tat scala.util.Try$.apply(Try.scala:213)\n\tat org.apache.spark.streaming.scheduler.Job.run(Job.scala:39)\n\tat org.apache.spark.streaming.scheduler.JobScheduler$JobHandler.$anonfun$run$1(JobScheduler.scala:256)\n\tat scala.runtime.java8.JFunction0$mcV$sp.apply(JFunction0$mcV$sp.java:23)\n\tat scala.util.DynamicVariable.withValue(DynamicVariable.scala:62)\n\tat org.apache.spark.streaming.scheduler.JobScheduler$JobHandler.run(JobScheduler.scala:256)\n\tat java.util.concurrent.ThreadPoolExecutor.runWorker(ThreadPoolExecutor.java:1149)\n\tat java.util.concurrent.ThreadPoolExecutor$Worker.run(ThreadPoolExecutor.java:624)\n\tat java.lang.Thread.run(Thread.java:748)\n"
     ]
    },
    {
     "name": "stderr",
     "output_type": "stream",
     "text": [
      "                                                                                \r"
     ]
    },
    {
     "name": "stdout",
     "output_type": "stream",
     "text": [
      "-------------------------------------------\n",
      "Time: 2022-10-08 18:31:05\n",
      "-------------------------------------------\n",
      "('Norris', 1)\n",
      "('Verstappen', 1)\n",
      "('Ricciardo', 1)\n",
      "\n",
      "----------- 2022-10-08 18:31:05 -----------\n"
     ]
    },
    {
     "name": "stderr",
     "output_type": "stream",
     "text": [
      "/opt/anaconda3/lib/python3.7/site-packages/pyspark/sql/dataframe.py:140: FutureWarning: Deprecated in 2.0, use createOrReplaceTempView instead.\n",
      "  FutureWarning\n",
      "                                                                                \r"
     ]
    },
    {
     "name": "stdout",
     "output_type": "stream",
     "text": [
      "       Driver  Total_number\n",
      "0      Norris             1\n",
      "1  Verstappen             1\n",
      "2   Ricciardo             1\n"
     ]
    },
    {
     "name": "stderr",
     "output_type": "stream",
     "text": [
      "\r",
      "[Stage 0:>                                                          (0 + 1) / 1]\r",
      "\r",
      "                                                                                \r"
     ]
    },
    {
     "name": "stdout",
     "output_type": "stream",
     "text": [
      "-------------------------------------------\n",
      "Time: 2022-10-08 18:31:10\n",
      "-------------------------------------------\n",
      "('Norris', 1)\n",
      "('Verstappen', 1)\n",
      "('Ricciardo', 1)\n",
      "\n",
      "----------- 2022-10-08 18:31:10 -----------\n"
     ]
    },
    {
     "name": "stderr",
     "output_type": "stream",
     "text": [
      "/opt/anaconda3/lib/python3.7/site-packages/pyspark/sql/dataframe.py:140: FutureWarning: Deprecated in 2.0, use createOrReplaceTempView instead.\n",
      "  FutureWarning\n"
     ]
    },
    {
     "name": "stdout",
     "output_type": "stream",
     "text": [
      "       Driver  Total_number\n",
      "0      Norris             1\n",
      "1  Verstappen             1\n",
      "2   Ricciardo             1\n"
     ]
    },
    {
     "name": "stderr",
     "output_type": "stream",
     "text": [
      "                                                                                \r"
     ]
    },
    {
     "name": "stdout",
     "output_type": "stream",
     "text": [
      "-------------------------------------------\n",
      "Time: 2022-10-08 18:31:15\n",
      "-------------------------------------------\n",
      "('Norris', 1)\n",
      "('Verstappen', 1)\n",
      "('Ricciardo', 1)\n",
      "\n",
      "----------- 2022-10-08 18:31:15 -----------\n"
     ]
    },
    {
     "name": "stderr",
     "output_type": "stream",
     "text": [
      "/opt/anaconda3/lib/python3.7/site-packages/pyspark/sql/dataframe.py:140: FutureWarning: Deprecated in 2.0, use createOrReplaceTempView instead.\n",
      "  FutureWarning\n"
     ]
    },
    {
     "name": "stdout",
     "output_type": "stream",
     "text": [
      "       Driver  Total_number\n",
      "0      Norris             1\n",
      "1  Verstappen             1\n",
      "2   Ricciardo             1\n"
     ]
    },
    {
     "name": "stderr",
     "output_type": "stream",
     "text": [
      "                                                                                \r"
     ]
    },
    {
     "name": "stdout",
     "output_type": "stream",
     "text": [
      "-------------------------------------------\n",
      "Time: 2022-10-08 18:31:20\n",
      "-------------------------------------------\n",
      "('Norris', 1)\n",
      "('Verstappen', 1)\n",
      "('Ricciardo', 3)\n",
      "\n",
      "----------- 2022-10-08 18:31:20 -----------\n"
     ]
    },
    {
     "name": "stderr",
     "output_type": "stream",
     "text": [
      "/opt/anaconda3/lib/python3.7/site-packages/pyspark/sql/dataframe.py:140: FutureWarning: Deprecated in 2.0, use createOrReplaceTempView instead.\n",
      "  FutureWarning\n"
     ]
    },
    {
     "name": "stdout",
     "output_type": "stream",
     "text": [
      "       Driver  Total_number\n",
      "0      Norris             1\n",
      "1  Verstappen             1\n",
      "2   Ricciardo             3\n"
     ]
    },
    {
     "name": "stderr",
     "output_type": "stream",
     "text": [
      "                                                                                \r"
     ]
    },
    {
     "name": "stdout",
     "output_type": "stream",
     "text": [
      "-------------------------------------------\n",
      "Time: 2022-10-08 18:31:25\n",
      "-------------------------------------------\n",
      "('Norris', 1)\n",
      "('Verstappen', 1)\n",
      "('Ricciardo', 4)\n",
      "\n",
      "----------- 2022-10-08 18:31:25 -----------\n"
     ]
    },
    {
     "name": "stderr",
     "output_type": "stream",
     "text": [
      "/opt/anaconda3/lib/python3.7/site-packages/pyspark/sql/dataframe.py:140: FutureWarning: Deprecated in 2.0, use createOrReplaceTempView instead.\n",
      "  FutureWarning\n"
     ]
    },
    {
     "name": "stdout",
     "output_type": "stream",
     "text": [
      "       Driver  Total_number\n",
      "0      Norris             1\n",
      "1  Verstappen             1\n",
      "2   Ricciardo             4\n"
     ]
    },
    {
     "name": "stderr",
     "output_type": "stream",
     "text": [
      "                                                                                \r"
     ]
    },
    {
     "name": "stdout",
     "output_type": "stream",
     "text": [
      "-------------------------------------------\n",
      "Time: 2022-10-08 18:31:30\n",
      "-------------------------------------------\n",
      "('Norris', 1)\n",
      "('Verstappen', 2)\n",
      "('Ricciardo', 4)\n",
      "('Vettel', 1)\n",
      "\n",
      "----------- 2022-10-08 18:31:30 -----------\n"
     ]
    },
    {
     "name": "stderr",
     "output_type": "stream",
     "text": [
      "/opt/anaconda3/lib/python3.7/site-packages/pyspark/sql/dataframe.py:140: FutureWarning: Deprecated in 2.0, use createOrReplaceTempView instead.\n",
      "  FutureWarning\n"
     ]
    },
    {
     "name": "stdout",
     "output_type": "stream",
     "text": [
      "       Driver  Total_number\n",
      "0      Norris             1\n",
      "1  Verstappen             2\n",
      "2   Ricciardo             4\n",
      "3      Vettel             1\n"
     ]
    },
    {
     "name": "stderr",
     "output_type": "stream",
     "text": [
      "                                                                                \r"
     ]
    },
    {
     "name": "stdout",
     "output_type": "stream",
     "text": [
      "-------------------------------------------\n",
      "Time: 2022-10-08 18:31:35\n",
      "-------------------------------------------\n",
      "('Norris', 1)\n",
      "('Verstappen', 2)\n",
      "('Ricciardo', 4)\n",
      "('Vettel', 1)\n",
      "\n",
      "----------- 2022-10-08 18:31:35 -----------\n",
      "       Driver  Total_number\n",
      "0      Norris             1\n",
      "1  Verstappen             2\n",
      "2   Ricciardo             4\n",
      "3      Vettel             1\n"
     ]
    },
    {
     "name": "stderr",
     "output_type": "stream",
     "text": [
      "/opt/anaconda3/lib/python3.7/site-packages/pyspark/sql/dataframe.py:140: FutureWarning: Deprecated in 2.0, use createOrReplaceTempView instead.\n",
      "  FutureWarning\n",
      "                                                                                \r"
     ]
    },
    {
     "name": "stdout",
     "output_type": "stream",
     "text": [
      "-------------------------------------------\n",
      "Time: 2022-10-08 18:31:40\n",
      "-------------------------------------------\n",
      "('Norris', 1)\n",
      "('Verstappen', 2)\n",
      "('Ricciardo', 4)\n",
      "('Vettel', 1)\n",
      "\n",
      "----------- 2022-10-08 18:31:40 -----------\n"
     ]
    },
    {
     "name": "stderr",
     "output_type": "stream",
     "text": [
      "/opt/anaconda3/lib/python3.7/site-packages/pyspark/sql/dataframe.py:140: FutureWarning: Deprecated in 2.0, use createOrReplaceTempView instead.\n",
      "  FutureWarning\n"
     ]
    },
    {
     "name": "stdout",
     "output_type": "stream",
     "text": [
      "       Driver  Total_number\n",
      "0      Norris             1\n",
      "1  Verstappen             2\n",
      "2   Ricciardo             4\n",
      "3      Vettel             1\n"
     ]
    },
    {
     "name": "stderr",
     "output_type": "stream",
     "text": [
      "                                                                                \r"
     ]
    },
    {
     "name": "stdout",
     "output_type": "stream",
     "text": [
      "-------------------------------------------\n",
      "Time: 2022-10-08 18:31:45\n",
      "-------------------------------------------\n",
      "('Norris', 1)\n",
      "('Verstappen', 2)\n",
      "('Ricciardo', 5)\n",
      "('Vettel', 1)\n",
      "('Gasly', 1)\n",
      "\n",
      "----------- 2022-10-08 18:31:45 -----------\n"
     ]
    },
    {
     "name": "stderr",
     "output_type": "stream",
     "text": [
      "/opt/anaconda3/lib/python3.7/site-packages/pyspark/sql/dataframe.py:140: FutureWarning: Deprecated in 2.0, use createOrReplaceTempView instead.\n",
      "  FutureWarning\n"
     ]
    },
    {
     "name": "stdout",
     "output_type": "stream",
     "text": [
      "       Driver  Total_number\n",
      "0      Norris             1\n",
      "1  Verstappen             2\n",
      "2   Ricciardo             5\n",
      "3      Vettel             1\n",
      "4       Gasly             1\n"
     ]
    },
    {
     "name": "stderr",
     "output_type": "stream",
     "text": [
      "/opt/anaconda3/lib/python3.7/site-packages/pyspark/sql/dataframe.py:140: FutureWarning: Deprecated in 2.0, use createOrReplaceTempView instead.\n",
      "  FutureWarning\n"
     ]
    },
    {
     "name": "stdout",
     "output_type": "stream",
     "text": [
      "-------------------------------------------\n",
      "Time: 2022-10-08 18:31:50\n",
      "-------------------------------------------\n",
      "('Norris', 1)\n",
      "('Verstappen', 2)\n",
      "('Ricciardo', 5)\n",
      "('Vettel', 1)\n",
      "('Gasly', 1)\n",
      "('Hamilton', 1)\n",
      "\n",
      "----------- 2022-10-08 18:31:50 -----------\n",
      "       Driver  Total_number\n",
      "0      Norris             1\n",
      "1  Verstappen             2\n",
      "2   Ricciardo             5\n",
      "3      Vettel             1\n",
      "4       Gasly             1\n",
      "5    Hamilton             1\n"
     ]
    },
    {
     "name": "stderr",
     "output_type": "stream",
     "text": [
      "                                                                                \r"
     ]
    },
    {
     "name": "stdout",
     "output_type": "stream",
     "text": [
      "-------------------------------------------\n",
      "Time: 2022-10-08 18:31:55\n",
      "-------------------------------------------\n",
      "('Norris', 1)\n",
      "('Verstappen', 2)\n",
      "('Ricciardo', 7)\n",
      "('Vettel', 1)\n",
      "('Gasly', 1)\n",
      "('Hamilton', 1)\n",
      "\n",
      "----------- 2022-10-08 18:31:55 -----------\n",
      "       Driver  Total_number\n",
      "0      Norris             1\n",
      "1  Verstappen             2\n",
      "2   Ricciardo             7\n",
      "3      Vettel             1\n",
      "4       Gasly             1\n",
      "5    Hamilton             1\n"
     ]
    },
    {
     "name": "stderr",
     "output_type": "stream",
     "text": [
      "/opt/anaconda3/lib/python3.7/site-packages/pyspark/sql/dataframe.py:140: FutureWarning: Deprecated in 2.0, use createOrReplaceTempView instead.\n",
      "  FutureWarning\n",
      "                                                                                \r"
     ]
    },
    {
     "name": "stdout",
     "output_type": "stream",
     "text": [
      "-------------------------------------------\n",
      "Time: 2022-10-08 18:32:00\n",
      "-------------------------------------------\n",
      "('Norris', 1)\n",
      "('Verstappen', 2)\n",
      "('Ricciardo', 8)\n",
      "('Vettel', 1)\n",
      "('Gasly', 1)\n",
      "('Hamilton', 1)\n",
      "\n",
      "----------- 2022-10-08 18:32:00 -----------\n"
     ]
    },
    {
     "name": "stderr",
     "output_type": "stream",
     "text": [
      "/opt/anaconda3/lib/python3.7/site-packages/pyspark/sql/dataframe.py:140: FutureWarning: Deprecated in 2.0, use createOrReplaceTempView instead.\n",
      "  FutureWarning\n"
     ]
    },
    {
     "name": "stdout",
     "output_type": "stream",
     "text": [
      "       Driver  Total_number\n",
      "0      Norris             1\n",
      "1  Verstappen             2\n",
      "2   Ricciardo             8\n",
      "3      Vettel             1\n",
      "4       Gasly             1\n",
      "5    Hamilton             1\n"
     ]
    },
    {
     "name": "stderr",
     "output_type": "stream",
     "text": [
      "                                                                                \r"
     ]
    },
    {
     "name": "stdout",
     "output_type": "stream",
     "text": [
      "-------------------------------------------\n",
      "Time: 2022-10-08 18:32:05\n",
      "-------------------------------------------\n",
      "('Norris', 1)\n",
      "('Verstappen', 2)\n",
      "('Ricciardo', 8)\n",
      "('Vettel', 1)\n",
      "('Gasly', 1)\n",
      "('Hamilton', 1)\n",
      "\n",
      "----------- 2022-10-08 18:32:05 -----------\n",
      "       Driver  Total_number\n",
      "0      Norris             1\n",
      "1  Verstappen             2\n",
      "2   Ricciardo             8\n",
      "3      Vettel             1\n",
      "4       Gasly             1\n",
      "5    Hamilton             1\n"
     ]
    },
    {
     "name": "stderr",
     "output_type": "stream",
     "text": [
      "/opt/anaconda3/lib/python3.7/site-packages/pyspark/sql/dataframe.py:140: FutureWarning: Deprecated in 2.0, use createOrReplaceTempView instead.\n",
      "  FutureWarning\n",
      "                                                                                \r"
     ]
    },
    {
     "name": "stdout",
     "output_type": "stream",
     "text": [
      "-------------------------------------------\n",
      "Time: 2022-10-08 18:32:10\n",
      "-------------------------------------------\n",
      "('Norris', 1)\n",
      "('Verstappen', 2)\n",
      "('Ricciardo', 8)\n",
      "('Vettel', 1)\n",
      "('Gasly', 1)\n",
      "('Hamilton', 1)\n",
      "\n",
      "----------- 2022-10-08 18:32:10 -----------\n"
     ]
    },
    {
     "name": "stderr",
     "output_type": "stream",
     "text": [
      "/opt/anaconda3/lib/python3.7/site-packages/pyspark/sql/dataframe.py:140: FutureWarning: Deprecated in 2.0, use createOrReplaceTempView instead.\n",
      "  FutureWarning\n"
     ]
    },
    {
     "name": "stdout",
     "output_type": "stream",
     "text": [
      "       Driver  Total_number\n",
      "0      Norris             1\n",
      "1  Verstappen             2\n",
      "2   Ricciardo             8\n",
      "3      Vettel             1\n",
      "4       Gasly             1\n",
      "5    Hamilton             1\n"
     ]
    },
    {
     "name": "stderr",
     "output_type": "stream",
     "text": [
      "                                                                                \r"
     ]
    },
    {
     "name": "stdout",
     "output_type": "stream",
     "text": [
      "-------------------------------------------\n",
      "Time: 2022-10-08 18:32:15\n",
      "-------------------------------------------\n",
      "('Norris', 1)\n",
      "('Verstappen', 2)\n",
      "('Ricciardo', 8)\n",
      "('Vettel', 1)\n",
      "('Gasly', 2)\n",
      "('Hamilton', 1)\n",
      "\n",
      "----------- 2022-10-08 18:32:15 -----------\n"
     ]
    },
    {
     "name": "stderr",
     "output_type": "stream",
     "text": [
      "/opt/anaconda3/lib/python3.7/site-packages/pyspark/sql/dataframe.py:140: FutureWarning: Deprecated in 2.0, use createOrReplaceTempView instead.\n",
      "  FutureWarning\n"
     ]
    },
    {
     "name": "stdout",
     "output_type": "stream",
     "text": [
      "       Driver  Total_number\n",
      "0      Norris             1\n",
      "1  Verstappen             2\n",
      "2   Ricciardo             8\n",
      "3      Vettel             1\n",
      "4       Gasly             2\n",
      "5    Hamilton             1\n"
     ]
    },
    {
     "name": "stderr",
     "output_type": "stream",
     "text": [
      "                                                                                \r"
     ]
    },
    {
     "name": "stdout",
     "output_type": "stream",
     "text": [
      "-------------------------------------------\n",
      "Time: 2022-10-08 18:32:20\n",
      "-------------------------------------------\n",
      "('Norris', 2)\n",
      "('Verstappen', 2)\n",
      "('Ricciardo', 8)\n",
      "('Vettel', 1)\n",
      "('Gasly', 2)\n",
      "('Hamilton', 1)\n",
      "\n",
      "----------- 2022-10-08 18:32:20 -----------\n"
     ]
    },
    {
     "name": "stderr",
     "output_type": "stream",
     "text": [
      "/opt/anaconda3/lib/python3.7/site-packages/pyspark/sql/dataframe.py:140: FutureWarning: Deprecated in 2.0, use createOrReplaceTempView instead.\n",
      "  FutureWarning\n"
     ]
    },
    {
     "name": "stdout",
     "output_type": "stream",
     "text": [
      "       Driver  Total_number\n",
      "0      Norris             2\n",
      "1  Verstappen             2\n",
      "2   Ricciardo             8\n",
      "3      Vettel             1\n",
      "4       Gasly             2\n",
      "5    Hamilton             1\n"
     ]
    },
    {
     "name": "stderr",
     "output_type": "stream",
     "text": [
      "                                                                                \r"
     ]
    },
    {
     "name": "stdout",
     "output_type": "stream",
     "text": [
      "-------------------------------------------\n",
      "Time: 2022-10-08 18:32:25\n",
      "-------------------------------------------\n",
      "('Norris', 2)\n",
      "('Verstappen', 3)\n",
      "('Ricciardo', 9)\n",
      "('Vettel', 1)\n",
      "('Gasly', 2)\n",
      "('Hamilton', 1)\n",
      "\n",
      "----------- 2022-10-08 18:32:25 -----------\n"
     ]
    },
    {
     "name": "stderr",
     "output_type": "stream",
     "text": [
      "/opt/anaconda3/lib/python3.7/site-packages/pyspark/sql/dataframe.py:140: FutureWarning: Deprecated in 2.0, use createOrReplaceTempView instead.\n",
      "  FutureWarning\n"
     ]
    },
    {
     "name": "stdout",
     "output_type": "stream",
     "text": [
      "       Driver  Total_number\n",
      "0      Norris             2\n",
      "1  Verstappen             3\n",
      "2   Ricciardo             9\n",
      "3      Vettel             1\n",
      "4       Gasly             2\n",
      "5    Hamilton             1\n"
     ]
    },
    {
     "name": "stderr",
     "output_type": "stream",
     "text": [
      "/opt/anaconda3/lib/python3.7/site-packages/pyspark/sql/dataframe.py:140: FutureWarning: Deprecated in 2.0, use createOrReplaceTempView instead.\n",
      "  FutureWarning\n"
     ]
    },
    {
     "name": "stdout",
     "output_type": "stream",
     "text": [
      "-------------------------------------------\n",
      "Time: 2022-10-08 18:32:30\n",
      "-------------------------------------------\n",
      "('Norris', 2)\n",
      "('Verstappen', 3)\n",
      "('Ricciardo', 10)\n",
      "('Vettel', 1)\n",
      "('Gasly', 2)\n",
      "('Hamilton', 1)\n",
      "\n",
      "----------- 2022-10-08 18:32:30 -----------\n",
      "       Driver  Total_number\n",
      "0      Norris             2\n",
      "1  Verstappen             3\n",
      "2   Ricciardo            10\n",
      "3      Vettel             1\n",
      "4       Gasly             2\n",
      "5    Hamilton             1\n"
     ]
    },
    {
     "name": "stderr",
     "output_type": "stream",
     "text": [
      "                                                                                \r"
     ]
    },
    {
     "name": "stdout",
     "output_type": "stream",
     "text": [
      "-------------------------------------------\n",
      "Time: 2022-10-08 18:32:35\n",
      "-------------------------------------------\n",
      "('Norris', 3)\n",
      "('Verstappen', 4)\n",
      "('Ricciardo', 10)\n",
      "('Vettel', 1)\n",
      "('Gasly', 2)\n",
      "('Hamilton', 1)\n",
      "\n",
      "----------- 2022-10-08 18:32:35 -----------\n",
      "       Driver  Total_number\n",
      "0      Norris             3\n",
      "1  Verstappen             4\n",
      "2   Ricciardo            10\n",
      "3      Vettel             1\n",
      "4       Gasly             2\n",
      "5    Hamilton             1\n"
     ]
    },
    {
     "name": "stderr",
     "output_type": "stream",
     "text": [
      "/opt/anaconda3/lib/python3.7/site-packages/pyspark/sql/dataframe.py:140: FutureWarning: Deprecated in 2.0, use createOrReplaceTempView instead.\n",
      "  FutureWarning\n",
      "                                                                                \r"
     ]
    },
    {
     "name": "stdout",
     "output_type": "stream",
     "text": [
      "-------------------------------------------\n",
      "Time: 2022-10-08 18:32:40\n",
      "-------------------------------------------\n",
      "('Norris', 3)\n",
      "('Verstappen', 4)\n",
      "('Ricciardo', 11)\n",
      "('Vettel', 1)\n",
      "('Gasly', 2)\n",
      "('Hamilton', 1)\n",
      "\n",
      "----------- 2022-10-08 18:32:40 -----------\n"
     ]
    }
   ],
   "source": [
    "#setup SparkContext and StreamingContext\n",
    "sc = SparkContext(\"local[2]\", \"NetworkWordCount\")\n",
    "sc.setLogLevel(\"ERROR\")\n",
    "ssc = StreamingContext(sc, 5)\n",
    "ssc.checkpoint(\"checkpoint_directory\")\n",
    "\n",
    "#collect tweets from localhost\n",
    "lines = ssc.socketTextStream(\"localhost\", 9008)\n",
    "\n",
    "# split each line into words, DStream (lines) is mapped to another DStream (words)\n",
    "words = lines\\\n",
    ".flatMap(lambda lines: lines.split(\" \"))\\\n",
    ".filter(lambda x: f1drivers(x)).map(lambda word: (word.capitalize(), 1))\n",
    "#.filter(lambda lines: '#driveroftheday' in lines)\\ \n",
    "#the line above is commented so there are more tweets (when no race is in progress)\n",
    "\n",
    "#sum and print the results on the screen\n",
    "runningCounts = words.updateStateByKey(updateFunc)\n",
    "runningCounts.pprint()\n",
    "\n",
    "# do processing for each RDD generated in each interval, save to CSV file\n",
    "runningCounts.foreachRDD(process)\n",
    "\n",
    "\n",
    "ssc.start()             # Start the computation\n",
    "ssc.awaitTermination()  # Wait for the computation to terminate\n",
    "ssc.stop(True,True)"
   ]
  },
  {
   "cell_type": "markdown",
   "id": "af90acef",
   "metadata": {},
   "source": [
    "# Plot a graph from a generated csv file"
   ]
  },
  {
   "cell_type": "code",
   "execution_count": 1,
   "id": "0e8eed8a-1b61-4754-b594-fc209e7dc08f",
   "metadata": {
    "scrolled": false
   },
   "outputs": [
    {
     "data": {
      "image/png": "[encoded data removed]",
      "text/plain": [
       "<Figure size 720x720 with 1 Axes>"
      ]
     },
     "metadata": {
      "needs_background": "light"
     },
     "output_type": "display_data"
    }
   ],
   "source": [
    "import pandas as pd\n",
    "import matplotlib.pyplot as plt\n",
    "import numpy as np\n",
    "\n",
    "df = pd.read_csv('Counting_Results.csv', usecols = ['Driver', 'Total_number'])\n",
    "\n",
    "    \n",
    "# bar chart showing number of votes for each of the drivers\n",
    "wykres=df.plot(kind='bar',x='Driver',y='Total_number', \n",
    "        width=0.9, \n",
    "        color= ['#005AFF','#0090FF','#900000','#2B4562','#00D2BE','#005AFF','#DC0000','#FFFFFF','#FF8700','#0090FF','#0600EF','#FF8700','#00D2BE','#DC0000','#FFFFFF','#006F62','#2B4562','#0600EF','#006F62','#900000'],\n",
    "        edgecolor='grey',\n",
    "        figsize=(10,10))\n",
    "\n",
    "for p in wykres.patches:\n",
    "    wykres.annotate(format(p.get_height(), '.1f'), \n",
    "                   (p.get_x() + p.get_width() / 2., p.get_height()), \n",
    "                   ha = 'center', va = 'center', \n",
    "                   xytext = (0, 10), \n",
    "                   textcoords = 'offset points')\n",
    "plt.ylabel(\"Number of Tweets\",fontsize=14)\n",
    "plt.xlabel(\"\")\n",
    "plt.title('Tweets',fontsize=24) \n",
    "wykres.legend_.remove()"
   ]
  },
  {
   "cell_type": "code",
   "execution_count": 2,
   "id": "2e05dda9-fbab-438a-a4bc-9a16a9e954a2",
   "metadata": {
    "scrolled": false
   },
   "outputs": [
    {
     "data": {
      "image/png": "[encoded data removed]",
      "text/plain": [
       "<Figure size 1296x1296 with 1 Axes>"
      ]
     },
     "metadata": {},
     "output_type": "display_data"
    }
   ],
   "source": [
    "#pie chart\n",
    "df.groupby(['Driver']).sum().plot(kind='pie', y='Total_number', autopct='%1.0f%%',\n",
    "                                figsize=(18,18),\n",
    "                                colors = ['#005AFF','#0090FF','#900000','#2B4562','#00D2BE','#005AFF','#DC0000','#FFFFFF','#FF8700','#0090FF','#0600EF','#FF8700','#00D2BE','#DC0000','#FFFFFF','#006F62','#2B4562','#0600EF','#006F62','#900000'],\n",
    "                                wedgeprops = {\"edgecolor\" : \"black\", 'linewidth': 0.3, 'antialiased': True},\n",
    "                                fontsize=14)\n",
    "leg = plt.legend( loc = 'upper right',prop={'size': 9},ncol=2)\n",
    "tyt=plt.title('Tweets',fontsize=24)   \n",
    "lab=plt.ylabel(\"\")"
   ]
  },
  {
   "cell_type": "code",
   "execution_count": 8,
   "id": "9d828f56",
   "metadata": {},
   "outputs": [
    {
     "data": {
      "text/html": [
       "<div>\n",
       "<style scoped>\n",
       "    .dataframe tbody tr th:only-of-type {\n",
       "        vertical-align: middle;\n",
       "    }\n",
       "\n",
       "    .dataframe tbody tr th {\n",
       "        vertical-align: top;\n",
       "    }\n",
       "\n",
       "    .dataframe thead th {\n",
       "        text-align: right;\n",
       "    }\n",
       "</style>\n",
       "<table border=\"1\" class=\"dataframe\">\n",
       "  <thead>\n",
       "    <tr style=\"text-align: right;\">\n",
       "      <th></th>\n",
       "      <th>Driver</th>\n",
       "      <th>Total_number</th>\n",
       "      <th>Podium</th>\n",
       "    </tr>\n",
       "  </thead>\n",
       "  <tbody>\n",
       "    <tr>\n",
       "      <th>2</th>\n",
       "      <td>Ricciardo</td>\n",
       "      <td>11</td>\n",
       "      <td>1</td>\n",
       "    </tr>\n",
       "    <tr>\n",
       "      <th>1</th>\n",
       "      <td>Verstappen</td>\n",
       "      <td>4</td>\n",
       "      <td>2</td>\n",
       "    </tr>\n",
       "    <tr>\n",
       "      <th>0</th>\n",
       "      <td>Norris</td>\n",
       "      <td>3</td>\n",
       "      <td>3</td>\n",
       "    </tr>\n",
       "  </tbody>\n",
       "</table>\n",
       "</div>"
      ],
      "text/plain": [
       "       Driver  Total_number  Podium\n",
       "2   Ricciardo            11       1\n",
       "1  Verstappen             4       2\n",
       "0      Norris             3       3"
      ]
     },
     "execution_count": 8,
     "metadata": {},
     "output_type": "execute_result"
    }
   ],
   "source": [
    "#podium dataframe\n",
    "df1=df.nlargest(n=3, columns=['Total_number'])\n",
    "# add a column\n",
    "df1.insert(2, \"Podium\", [1,2,3], True)\n",
    "  \n",
    "# Check the result\n",
    "df1"
   ]
  },
  {
   "cell_type": "code",
   "execution_count": 7,
   "id": "f65a0a38",
   "metadata": {
    "scrolled": false
   },
   "outputs": [
    {
     "data": {
      "image/png": "[encoded data removed]",
      "text/plain": [
       "<Figure size 648x504 with 1 Axes>"
      ]
     },
     "metadata": {
      "needs_background": "light"
     },
     "output_type": "display_data"
    }
   ],
   "source": [
    "#podium chart\n",
    "podium=df1.sort_values('Podium', ascending = True).plot(kind='bar',x='Driver',y='Total_number',\n",
    "        figsize=(9,7),\n",
    "        width=0.9,\n",
    "        color= ['silver','gold','saddlebrown'],\n",
    "        )\n",
    "\n",
    "\n",
    "plt.xticks(x='Driver',rotation=0,fontsize=24)\n",
    "\n",
    "\n",
    "\n",
    "plt.xlabel\n",
    "plt.ylabel(\"Number of Tweets\",fontsize=14)\n",
    "plt.xlabel(\"\")\n",
    "plt.title('Top 3 F1 drivers',fontsize=24)\n",
    "podium.get_yaxis().set_visible(False)\n",
    "podium.legend_.remove()"
   ]
  }
 ],
 "metadata": {
  "kernelspec": {
   "display_name": "Python 3 (ipykernel)",
   "language": "python",
   "name": "python3"
  },
  "language_info": {
   "codemirror_mode": {
    "name": "ipython",
    "version": 3
   },
   "file_extension": ".py",
   "mimetype": "text/x-python",
   "name": "python",
   "nbconvert_exporter": "python",
   "pygments_lexer": "ipython3",
   "version": "3.7.13"
  }
 },
 "nbformat": 4,
 "nbformat_minor": 5
}
